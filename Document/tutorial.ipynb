{
 "cells": [
  {
   "cell_type": "markdown",
   "metadata": {},
   "source": [
    "## Tutorial\n",
    "\n",
    "This tutorial demonstrates how to utilize the `grobidmonkey` package to read GROBID-processed papers. We here use the published paper 'Influential Node Detection on Graph on Event Sequence' as an example, you can found the pdf at [here](https://github.com/com3dian/Grobidmonkey/tree/master/Document/resources/example.pdf) and the TEI-XML at [here](https://github.com/com3dian/Grobidmonkey/tree/master/Document/resources/example.pdf.tei.xml)."
   ]
  },
  {
   "cell_type": "code",
   "execution_count": 1,
   "metadata": {},
   "outputs": [
    {
     "name": "stdout",
     "output_type": "stream",
     "text": [
      "Article\n",
      "├── 1 Introduction\n",
      "├── 2 Proposed Method\n",
      "│   ├── 2.1 Graph on Event Sequence\n",
      "│   ├── 2.2 Hawkes Process for Influence Measurement\n",
      "│   └── 2.3 Soft K-Shell Algorithm\n",
      "├── 3 Experiments and Results\n",
      "│   ├── 3.1 SIR Simulation Results\n",
      "│   ├── 3.2 Computational Complexity Results\n",
      "│   └── 3.3 Soft Shell Decomposition\n",
      "└── 4 Conclusion\n"
     ]
    }
   ],
   "source": [
    "# import grobid reader\n",
    "from grobidmonkey import reader\n",
    "\n",
    "# select one of the three methods: monkey, lxml, x2d\n",
    "monkeyReader = reader.MonkeyReader('monkey') # or 'lxml' or 'x2d'\n",
    "\n",
    "# read paper outline\n",
    "outline = monkeyReader.readOutline('resources/example.pdf.tei.xml', True)"
   ]
  },
  {
   "cell_type": "markdown",
   "metadata": {},
   "source": [
    "The second argument allows you to print the outline while reading, you can also try:"
   ]
  },
  {
   "cell_type": "code",
   "execution_count": 2,
   "metadata": {},
   "outputs": [
    {
     "name": "stdout",
     "output_type": "stream",
     "text": [
      "Article\n",
      "├── 1 Introduction\n",
      "├── 2 Proposed Method\n",
      "│   ├── 2.1 Graph on Event Sequence\n",
      "│   ├── 2.2 Hawkes Process for Influence Measurement\n",
      "│   └── 2.3 Soft K-Shell Algorithm\n",
      "├── 3 Experiments and Results\n",
      "│   ├── 3.1 SIR Simulation Results\n",
      "│   ├── 3.2 Computational Complexity Results\n",
      "│   └── 3.3 Soft Shell Decomposition\n",
      "└── 4 Conclusion\n"
     ]
    }
   ],
   "source": [
    "outline = monkeyReader.readOutline('resources/example.pdf.tei.xml')\n",
    "\n",
    "# outline is an anytree.rendertree object, to print it run\n",
    "for pre, fill, node in outline:\n",
    "    print(\"%s%s\" % (pre, node.name))"
   ]
  },
  {
   "cell_type": "markdown",
   "metadata": {},
   "source": [
    "The grobidmonkey reader is also capable of reading the entire essay as a dictionary, where each key represents section titles and the corresponding values are lists of section contents in paragraphs."
   ]
  },
  {
   "cell_type": "code",
   "execution_count": 3,
   "metadata": {},
   "outputs": [
    {
     "name": "stdout",
     "output_type": "stream",
     "text": [
      "Abstract\n",
      " * Numerous research ef...\n",
      "-----\n",
      "Introduction\n",
      " * Real-world networks ...\n",
      " * However, many real-w...\n",
      " * Although the already...\n",
      " * To fix the mentioned...\n",
      "-----\n",
      "Proposed Method\n",
      " * This section present...\n",
      "-----\n",
      "Graph on Event Sequence\n",
      " * This research propos...\n",
      " * 1: The graph is a di...\n",
      " * Why 'Graph on Event ...\n",
      " * models only consisti...\n",
      "-----\n",
      "Hawkes Process for Influence Measurement\n",
      " * The Hawkes process [...\n",
      " * Definition 1. A grap...\n",
      " * where u, v are the n...\n",
      "-----\n",
      "Soft K-Shell Algorithm\n",
      " * Accordingly, we prop...\n",
      "-----\n",
      "Experiments and Results\n",
      " * This study compares ...\n",
      "-----\n",
      "SIR Simulation Results\n",
      " * In this study, we co...\n",
      " * The SIR model is a w...\n",
      " * The transmission rat...\n",
      " * (a) The SIR results ...\n",
      " * Fig. 3. Following th...\n",
      " * The results of Soft ...\n",
      " * In particular, four ...\n",
      " * data set and the NCJ...\n",
      " * Table 1 presents the...\n",
      " * -Shell O(|V | 2 ) MD...\n",
      "-----\n",
      "Computational Complexity Results\n",
      " * In this paper, we al...\n",
      "-----\n",
      "Soft Shell Decomposition\n",
      " * Besides the quantita...\n",
      " * As demonstrated in F...\n",
      "-----\n",
      "Conclusion\n",
      " * With the increasing ...\n",
      " * Fig. 1 .1Fig. 1. A t...\n",
      "-----\n"
     ]
    }
   ],
   "source": [
    "essay = monkeyReader.readEssay('resources/example.pdf.tei.xml')\n",
    "\n",
    "for key, value in essay.items():\n",
    "    print(key)\n",
    "    for i, paragraph in enumerate(value):\n",
    "        print(' * ' + paragraph[:20] + '...')\n",
    "    print('-----')"
   ]
  }
 ],
 "metadata": {
  "kernelspec": {
   "display_name": "Python 3",
   "language": "python",
   "name": "python3"
  },
  "language_info": {
   "codemirror_mode": {
    "name": "ipython",
    "version": 3
   },
   "file_extension": ".py",
   "mimetype": "text/x-python",
   "name": "python",
   "nbconvert_exporter": "python",
   "pygments_lexer": "ipython3",
   "version": "3.10.12"
  }
 },
 "nbformat": 4,
 "nbformat_minor": 2
}
