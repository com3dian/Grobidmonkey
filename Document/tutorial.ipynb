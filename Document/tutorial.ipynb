{
 "cells": [
  {
   "cell_type": "markdown",
   "metadata": {},
   "source": [
    "This tutorial demonstrates how to utilize the `grobidmonkey` package to read GROBID-processed papers."
   ]
  },
  {
   "cell_type": "code",
   "execution_count": 24,
   "metadata": {},
   "outputs": [
    {
     "name": "stdout",
     "output_type": "stream",
     "text": [
      "Article\n",
      "├── 1 Introduction\n",
      "├── 2 Informal Summary of the Main Idea of the Paper\n",
      "├── 3 Formalizing \"Correlations of Causal Facts\"\n",
      "├── 4 Testing for Causal Knowledge in Large Language Models\n",
      "│   ├── 4.1 Methods and Results for \"Common Sense\" Inference Tasks\n",
      "│   ├── 4.2 Methods and Results for Causal Discovery on Ground Truth\n",
      "│   └── 4.3 Method and Results for Knowledge Base Fact Embeddings\n",
      "├── 5 Related Work\n",
      "└── 6 Conclusive Discussion\n"
     ]
    }
   ],
   "source": [
    "# import grobid reader\n",
    "from grobidmonkey import reader\n",
    "\n",
    "# select one of the three methods: monkey, lxml, x2d\n",
    "monkeyReader = reader.MonkeyReader('monkey') # or 'lxml' or 'x2d'\n",
    "\n",
    "# read paper outline\n",
    "outline = monkeyReader.readOutline('resources/2308.13067.pdf.tei.xml', True)"
   ]
  },
  {
   "cell_type": "markdown",
   "metadata": {},
   "source": [
    "The second argument allows you to print the outline while reading, you can also try:"
   ]
  },
  {
   "cell_type": "code",
   "execution_count": 4,
   "metadata": {},
   "outputs": [
    {
     "name": "stdout",
     "output_type": "stream",
     "text": [
      "Article\n",
      "├── 1 Introduction\n",
      "├── 2 Informal Summary of the Main Idea of the Paper\n",
      "├── 3 Formalizing \"Correlations of Causal Facts\"\n",
      "├── 4 Testing for Causal Knowledge in Large Language Models\n",
      "│   ├── 4.1 Methods and Results for \"Common Sense\" Inference Tasks\n",
      "│   ├── 4.2 Methods and Results for Causal Discovery on Ground Truth\n",
      "│   └── 4.3 Method and Results for Knowledge Base Fact Embeddings\n",
      "├── 5 Related Work\n",
      "└── 6 Conclusive Discussion\n"
     ]
    }
   ],
   "source": [
    "outline = monkeyReader.readOutline('resources/2308.13067.pdf.tei.xml')\n",
    "\n",
    "# outline is an anytree object, to print it run\n",
    "for pre, fill, node in outline:\n",
    "    print(\"%s%s\" % (pre, node.name))"
   ]
  },
  {
   "cell_type": "markdown",
   "metadata": {},
   "source": [
    "The grobidmonkey reader is also capable of reading the entire essay as a dictionary, where each key represents section titles and the corresponding values are lists of section contents in paragraphs."
   ]
  },
  {
   "cell_type": "code",
   "execution_count": 26,
   "metadata": {},
   "outputs": [
    {
     "name": "stdout",
     "output_type": "stream",
     "text": [
      "Abstract\n",
      " * Some argue scale is ...\n",
      "-----\n",
      "Introduction\n",
      " * Speaking of causalit...\n",
      " * The following block ...\n",
      " * With the rise of lar...\n",
      " * It is clear how reso...\n",
      " * Therefore, in this p...\n",
      " * We identify the key ...\n",
      " * For reproduction pur...\n",
      "-----\n",
      "Informal Summary of the Main Idea of the Paper\n",
      " * LLMs are transformer...\n",
      " * illustrate this idea...\n",
      " * While the philosophi...\n",
      "-----\n",
      "Formalizing \"Correlations of Causal Facts\"\n",
      " * \"Correlation does no...\n",
      " * Or does it? In this ...\n",
      " * Namely, what happens...\n",
      " * We start by providin...\n",
      " * Definition 1. A simp...\n",
      " * where I, J are disjo...\n",
      " * The graph of a simpl...\n",
      " * Example 1 ('Classica...\n",
      " * 4 Or rather, it is a...\n",
      " * 5 SCMs that allow fo...\n",
      " * 7 For examples later...\n",
      " * 8 See Def.F.1 of (Bo...\n",
      " * X, Y, Z, we can appr...\n",
      " * M 1 : =({X, Y, Z}, 3...\n",
      " * The structural equat...\n",
      " * 2 : =({X, Y }, 3, R ...\n",
      " * This second SCM M 2 ...\n",
      " * Example 1 serves to ...\n",
      " * Insight 1. Let M be ...\n",
      " * Returning to Example...\n",
      " * f ′ 1 , f ′ 2 , f ′ ...\n",
      " * allows us to answer ...\n",
      " * For our argument the...\n",
      " * In the following, we...\n",
      " * Example 2 ('Meta Set...\n",
      " * M 1 : =({X, Y }, 3, ...\n",
      " * late consumption and...\n",
      " * M 2 : =({W }, ∅, {0,...\n",
      " * where W : = G(M 1 ) ...\n",
      " * f ′ f ′ f ′ : ={W = ...\n",
      " * W encodes the causal...\n",
      " * L 1 (M 2 ) = W we fu...\n",
      " * . Therefore, we conc...\n",
      " * P (Y X←1 = 1) = P (Y...\n",
      " * At this point, it is...\n",
      " * Conjecture 1 (Correl...\n",
      " * f (Q) = A ⇐⇒ f (Q) m...\n",
      " * In words, Conj.1 sug...\n",
      " * Meta SCM and Fine-Tu...\n",
      "-----\n",
      "Testing for Causal Knowledge in Large Language Models\n",
      " * We evaluate three pu...\n",
      " * How do LLMs perform....\n",
      " * In the following, we...\n",
      "-----\n",
      "Methods and Results for \"Common Sense\" Inference Tasks\n",
      " * We argue that \"commo...\n",
      " * In this setup no pri...\n",
      " * Results for this exp...\n",
      " * Again, results for t...\n",
      " * It is rather a hint ...\n",
      " * Seeing LLM consideri...\n",
      " * Chain of Thoughts Pr...\n",
      " * ) Accuracy GPT-3 ✓ ✓...\n",
      " * Humans utilise simil...\n",
      " * where is previously ...\n",
      " * Newer General-Purpos...\n",
      "-----\n",
      "Methods and Results for Causal Discovery on Ground Truth\n",
      " * induce randomness (e...\n",
      " * In that sense, LLMs ...\n",
      " * After querying all e...\n",
      "-----\n",
      "Method and Results for Knowledge Base Fact Embeddings\n",
      " * The reason that we o...\n",
      " * We discuss our findi...\n",
      "-----\n",
      "Related Work\n",
      " * This present work ta...\n",
      " * For instance, Wang e...\n",
      " * Putting the present ...\n",
      "-----\n",
      "Conclusive Discussion\n",
      " * We have multiple rea...\n",
      " * As we started explor...\n",
      " * Then in Sec.4 we con...\n",
      " * 6.1 Takeaway, Ethica...\n",
      " * We believe there to ...\n",
      " * On the ethical side ...\n",
      " * Funding. The authors...\n",
      "-----\n"
     ]
    }
   ],
   "source": [
    "essay = monkeyReader.readEssay('/home/com3dian/Downloads/2308.13067.pdf.tei.xml')\n",
    "\n",
    "for key, value in essay.items():\n",
    "    print(key)\n",
    "    for paragraph in value:\n",
    "        print(' * ' + paragraph[:20] + '...')\n",
    "    print('-----')"
   ]
  }
 ],
 "metadata": {
  "kernelspec": {
   "display_name": "Python 3",
   "language": "python",
   "name": "python3"
  },
  "language_info": {
   "codemirror_mode": {
    "name": "ipython",
    "version": 3
   },
   "file_extension": ".py",
   "mimetype": "text/x-python",
   "name": "python",
   "nbconvert_exporter": "python",
   "pygments_lexer": "ipython3",
   "version": "3.10.12"
  }
 },
 "nbformat": 4,
 "nbformat_minor": 2
}
