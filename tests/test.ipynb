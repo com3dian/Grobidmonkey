{
 "cells": [
  {
   "cell_type": "code",
   "execution_count": 2,
   "metadata": {},
   "outputs": [
    {
     "name": "stdout",
     "output_type": "stream",
     "text": [
      "Article\n",
      "├── 1 Introduction\n",
      "│   └── 1.1 Subsection 1.1\n",
      "│       └── 1.1.1 Subsubsection 1.1.1\n",
      "└── 2 Conclusion\n"
     ]
    },
    {
     "data": {
      "text/plain": [
       "RenderTree(Node('/Article'), style=ContStyle(), childiter=<class 'list'>)"
      ]
     },
     "execution_count": 2,
     "metadata": {},
     "output_type": "execute_result"
    }
   ],
   "source": [
    "from grobidmonkey.utils import dictUnion, OutlineReader\n",
    "from grobidmonkey import reader\n",
    "monkeyReader = reader.MonkeyReader('lxml')\n",
    "essay = monkeyReader.readEssay('test_resources/paper_process-3.pdf.tei.xml')\n",
    "monkeyReader.readEssay('test_resources/paper_process-3.pdf.tei.xml')"
   ]
  },
  {
   "cell_type": "code",
   "execution_count": 2,
   "metadata": {},
   "outputs": [
    {
     "data": {
      "text/plain": [
       "0"
      ]
     },
     "execution_count": 2,
     "metadata": {},
     "output_type": "execute_result"
    }
   ],
   "source": [
    "import Levenshtein\n",
    "from lorem_text import lorem\n",
    "\n",
    "lorem = '''\n",
    "Lorem ipsum dolor sit amet, consectetuer adipiscing elit. Ut purus elit, \n",
    "vestibulum ut, placerat ac, adipiscing vitae, felis. Curabitur dictum gravida \n",
    "mauris. Nam arcu libero, nonummy eget, consectetuer id, vulputate a, magna. \n",
    "Donec vehicula augue eu neque. Pellentesque habitant morbi tristique senectus \n",
    "et netus et malesuada fames ac turpis egestas. Mauris ut leo. Cras viverra metus \n",
    "rhoncus sem. Nulla et lectus vestibulum urna fringilla ultrices. Phasellus eu \n",
    "tellus sit amet tortor gravida placerat. Integer sapien est, iaculis in, pretium \n",
    "quis, viverra ac, nunc. Praesent eget sem vel leo ultrices bibendum. Aenean \n",
    "faucibus. Morbi dolor nulla, malesuada eu, pulvinar at, mollis ac, nulla. \n",
    "Curabitur auctor semper nulla. Donec varius orci eget risus. Duis nibh mi, congue \n",
    "eu, accumsan eleifend, sagittis quis, diam. Duis eget orci sit amet orci dignissim \n",
    "rutrum.\n",
    "'''\n",
    "lorem = lorem.replace('\\n', '')\n",
    "a = Levenshtein.distance(lorem, essay['Introduction'][0])\n",
    "a"
   ]
  },
  {
   "cell_type": "code",
   "execution_count": 3,
   "metadata": {},
   "outputs": [
    {
     "data": {
      "text/plain": [
       "'Lorem ipsum dolor sit amet, consectetuer adipiscing elit. Ut purus elit, vestibulum ut, placerat ac, adipiscing vitae, felis. Curabitur dictum gravida mauris. Nam arcu libero, nonummy eget, consectetuer id, vulputate a, magna. Donec vehicula augue eu neque. Pellentesque habitant morbi tristique senectus et netus et malesuada fames ac turpis egestas. Mauris ut leo. Cras viverra metus rhoncus sem. Nulla et lectus vestibulum urna fringilla ultrices. Phasellus eu tellus sit amet tortor gravida placerat. Integer sapien est, iaculis in, pretium quis, viverra ac, nunc. Praesent eget sem vel leo ultrices bibendum. Aenean faucibus. Morbi dolor nulla, malesuada eu, pulvinar at, mollis ac, nulla. Curabitur auctor semper nulla. Donec varius orci eget risus. Duis nibh mi, congue eu, accumsan eleifend, sagittis quis, diam. Duis eget orci sit amet orci dignissim rutrum.'"
      ]
     },
     "execution_count": 3,
     "metadata": {},
     "output_type": "execute_result"
    }
   ],
   "source": [
    "lorem"
   ]
  },
  {
   "cell_type": "code",
   "execution_count": 14,
   "metadata": {},
   "outputs": [
    {
     "data": {
      "text/plain": [
       "'Lorem ipsum dolor sit amet, consectetuer adipiscing elit. Ut purus elit, vestibulum ut, placerat ac, adipiscing vitae, felis. Curabitur dictum gravida mauris. Nam arcu libero, nonummy eget, consectetuer id, vulputate a, magna. Donec vehicula augue eu neque. Pellentesque habitant morbi tristique senectus et netus et malesuada fames ac turpis egestas. Mauris ut leo. Cras viverra metus rhoncus sem. Nulla et lectus vestibulum urna fringilla ultrices. Phasellus eu tellus sit amet tortor gravida placerat. Integer sapien est, iaculis in, pretium quis, viverra ac, nunc. Praesent eget sem vel leo ultrices bibendum. Aenean faucibus. Morbi dolor nulla, malesuada eu, pulvinar at, mollis ac, nulla. Curabitur auctor semper nulla. Donec varius orci eget risus. Duis nibh mi, congue eu, accumsan eleifend, sagittis quis, diam. Duis eget orci sit amet orci dignissim rutrum.'"
      ]
     },
     "execution_count": 14,
     "metadata": {},
     "output_type": "execute_result"
    }
   ],
   "source": []
  },
  {
   "cell_type": "code",
   "execution_count": 19,
   "metadata": {},
   "outputs": [
    {
     "data": {
      "text/plain": [
       "'Lorem ipsum dolor sit amet, consectetur adipisicing elit, sed do eiusmod tempor incididunt ut labore et dolore magna aliqua. Ut enim ad minim veniam, quis nostrud exercitation ullamco laboris nisi ut aliquip ex ea commodo consequat. Duis aute irure dolor in reprehenderit in voluptate velit esse cillum dolore eu fugiat nulla pariatur. Excepteur sint occaecat cupidatat non proident, sunt in culpa qui officia deserunt mollit anim id est laborum.'"
      ]
     },
     "execution_count": 19,
     "metadata": {},
     "output_type": "execute_result"
    }
   ],
   "source": [
    "lorem.paragraphs(1)"
   ]
  },
  {
   "cell_type": "code",
   "execution_count": 2,
   "metadata": {},
   "outputs": [
    {
     "name": "stdout",
     "output_type": "stream",
     "text": [
      "Article\n",
      "├── 1 Introduction\n",
      "│   └── 1.1 Subsection 1.1\n",
      "│       └── 1.1.1 Subsubsection 1.1.1\n",
      "└── 2 Conclusion\n"
     ]
    }
   ],
   "source": [
    "monkeyReader = reader.MonkeyReader('x2d')\n",
    "monkeyReader.readEssay('test_resources/paper_process-3.pdf.tei.xml')\n",
    "tree = monkeyReader.readOutline('test_resources/paper_process-3.pdf.tei.xml')"
   ]
  },
  {
   "cell_type": "code",
   "execution_count": 12,
   "metadata": {},
   "outputs": [
    {
     "name": "stdout",
     "output_type": "stream",
     "text": [
      "Node('/Article')\n",
      "<class 'anytree.node.node.Node'>\n",
      "Node('/Article/1 Introduction')\n",
      "<class 'anytree.node.node.Node'>\n",
      "Node('/Article/1 Introduction/1.1 Subsection 1.1')\n",
      "<class 'anytree.node.node.Node'>\n",
      "Node('/Article/1 Introduction/1.1 Subsection 1.1/1.1.1 Subsubsection 1.1.1')\n",
      "<class 'anytree.node.node.Node'>\n",
      "Node('/Article/2 Conclusion')\n",
      "<class 'anytree.node.node.Node'>\n"
     ]
    }
   ],
   "source": [
    "from anytree import Node, RenderTree, AsciiStyle, PreOrderIter\n",
    "\n",
    "for a in tree:\n",
    "    print(a.node)\n",
    "    print(type(a.node))"
   ]
  },
  {
   "cell_type": "code",
   "execution_count": 1,
   "metadata": {},
   "outputs": [
    {
     "name": "stdout",
     "output_type": "stream",
     "text": [
      "{}\n",
      "   1\n",
      "{'1': Node('/Aritcle/1 Introduction')}\n",
      "1   1.1\n",
      "1   1.1\n",
      "{'1': Node('/Aritcle/1 Introduction'), '1.1': Node('/Aritcle/1 Introduction/1.1 Subsection 1.1')}\n",
      "1.1   1.1.1\n",
      "1.1   1.1.1\n",
      "{'1': Node('/Aritcle/1 Introduction'), '1.1': Node('/Aritcle/1 Introduction/1.1 Subsection 1.1'), '1.1.1': Node('/Aritcle/1 Introduction/1.1 Subsection 1.1/1.1.1 Subsubsection 1.1.1')}\n",
      "   2\n",
      "Aritcle\n",
      "├── 1 Introduction\n",
      "│   └── 1.1 Subsection 1.1\n",
      "│       └── 1.1.1 Subsubsection 1.1.1\n",
      "└── 2 Conclusion\n"
     ]
    },
    {
     "data": {
      "text/plain": [
       "RenderTree(Node('/Aritcle'), style=ContStyle(), childiter=<class 'list'>)"
      ]
     },
     "execution_count": 1,
     "metadata": {},
     "output_type": "execute_result"
    }
   ],
   "source": [
    "from example_package_com3dian import reader\n",
    "monkeyReader = reader.MonkeyReader('monkey')\n",
    "monkeyReader.readEssay('test_resources/paper_process-3.pdf.tei.xml')\n",
    "monkeyReader.readOutline('test_resources/paper_process-3.pdf.tei.xml')"
   ]
  },
  {
   "cell_type": "code",
   "execution_count": null,
   "metadata": {},
   "outputs": [],
   "source": [
    "\n"
   ]
  },
  {
   "cell_type": "code",
   "execution_count": 3,
   "metadata": {},
   "outputs": [
    {
     "name": "stdout",
     "output_type": "stream",
     "text": [
      "Last dot position: 29\n"
     ]
    }
   ],
   "source": [
    "string = \".example.string.with.multiple.dots\"\n",
    "last_dot_index = string.rfind('.')\n",
    "print(\"Last dot position:\", last_dot_index)"
   ]
  }
 ],
 "metadata": {
  "kernelspec": {
   "display_name": "Python 3",
   "language": "python",
   "name": "python3"
  },
  "language_info": {
   "codemirror_mode": {
    "name": "ipython",
    "version": 3
   },
   "file_extension": ".py",
   "mimetype": "text/x-python",
   "name": "python",
   "nbconvert_exporter": "python",
   "pygments_lexer": "ipython3",
   "version": "3.10.12"
  }
 },
 "nbformat": 4,
 "nbformat_minor": 2
}
